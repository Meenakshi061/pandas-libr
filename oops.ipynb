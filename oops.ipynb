{
 "cells": [
  {
   "cell_type": "code",
   "execution_count": 1,
   "metadata": {},
   "outputs": [
    {
     "name": "stdout",
     "output_type": "stream",
     "text": [
      "3\n"
     ]
    }
   ],
   "source": [
    "add=lambda x,y: x+y\n",
    "print(add(1,2))"
   ]
  },
  {
   "cell_type": "code",
   "execution_count": 4,
   "metadata": {},
   "outputs": [
    {
     "name": "stdout",
     "output_type": "stream",
     "text": [
      "10\n"
     ]
    }
   ],
   "source": [
    "class Arya:\n",
    "    a=10\n",
    "    \n",
    "a1= Arya(  ) \n",
    "print(a1.a) "
   ]
  },
  {
   "cell_type": "code",
   "execution_count": 16,
   "metadata": {},
   "outputs": [
    {
     "name": "stdout",
     "output_type": "stream",
     "text": [
      "hod\n",
      "None\n"
     ]
    }
   ],
   "source": [
    "class Arya:\n",
    "    def hod():\n",
    "       print(\"hod\") \n",
    "a1=Arya.hod()\n",
    "print(a1)       "
   ]
  },
  {
   "cell_type": "code",
   "execution_count": 29,
   "metadata": {},
   "outputs": [
    {
     "name": "stdout",
     "output_type": "stream",
     "text": [
      "10\n"
     ]
    }
   ],
   "source": [
    "class Arya:\n",
    "    def __init__(self): # use for const (init)\n",
    "       self.a=10     # instance variable break create hoga\n",
    "a1=Arya() \n",
    "print(a1.a)      \n",
    "        "
   ]
  },
  {
   "cell_type": "code",
   "execution_count": null,
   "metadata": {},
   "outputs": [
    {
     "name": "stdout",
     "output_type": "stream",
     "text": [
      "jjh\n",
      "hshs\n"
     ]
    }
   ],
   "source": [
    "class Arya:\n",
    "    def __init__(self,a,b):# const\n",
    "        self.a=a# \n",
    "        self.b=b\n",
    "    def c(self):# method\n",
    "      print(self.a)# vaiable access\n",
    "      print(self.b)\n",
    "obj=Arya(\"jjh\",\"hshs\") \n",
    "obj.c()    # call  \n",
    "        "
   ]
  },
  {
   "cell_type": "code",
   "execution_count": null,
   "metadata": {},
   "outputs": [
    {
     "name": "stdout",
     "output_type": "stream",
     "text": [
      "hello\n",
      "arya main\n"
     ]
    }
   ],
   "source": [
    "#   single inheritance \n",
    "class Arya:\n",
    "    name=\"arya main\"\n",
    "       \n",
    "class AryaOld(Arya):\n",
    "    print(\"hello\")\n",
    "a=AryaOld()\n",
    "print(a.name)\n",
    "    "
   ]
  },
  {
   "cell_type": "code",
   "execution_count": null,
   "metadata": {},
   "outputs": [],
   "source": [
    "# multiple\n",
    "class arya:\n",
    "    name=\"arya main\"\n",
    "class AryaOld :\n",
    "    name =\"a\" \n",
    "     \n",
    "class AryaNew(arya,AryaOld) :     "
   ]
  },
  {
   "cell_type": "code",
   "execution_count": null,
   "metadata": {},
   "outputs": [],
   "source": [
    "class bankdetails:\n",
    "    def __init__(self,accountnumber):# const\n",
    "        self.accountnumber=accountnumber# \n",
    "    \n",
    "    def customer(self):# method\n",
    "      print(\"customer details\")# vaiable access\n",
    "class customer(bankdetails):      \n",
    "    def __init__(self,accountnumber):\n",
    "        bankdetails.__init__(self)\n",
    "        \n",
    "    "
   ]
  },
  {
   "cell_type": "code",
   "execution_count": null,
   "metadata": {},
   "outputs": [
    {
     "name": "stdout",
     "output_type": "stream",
     "text": [
      "son\n"
     ]
    },
    {
     "data": {
      "text/plain": [
       "'ram'"
      ]
     },
     "execution_count": 36,
     "metadata": {},
     "output_type": "execute_result"
    }
   ],
   "source": [
    "class Grandfather:\n",
    " Grandfather   =\"ram\" #multiple\n",
    "class Father:\n",
    "    Father=\"shyam\"\n",
    "class son(Father,Grandfather): \n",
    "    print(\"son\") \n",
    "obj= son()  \n",
    "obj.Grandfather\n",
    "   "
   ]
  },
  {
   "cell_type": "code",
   "execution_count": 38,
   "metadata": {},
   "outputs": [
    {
     "name": "stdout",
     "output_type": "stream",
     "text": [
      "son\n"
     ]
    },
    {
     "data": {
      "text/plain": [
       "'shyam'"
      ]
     },
     "execution_count": 38,
     "metadata": {},
     "output_type": "execute_result"
    }
   ],
   "source": [
    "class Grandfather: #mulilevel\n",
    " Grandfather   =\"ram\"\n",
    "class Father(Grandfather):\n",
    "    Father=\"shyam\"\n",
    "class son(Father): \n",
    "    print(\"son\") \n",
    "obj= son()  \n",
    "obj.Father"
   ]
  },
  {
   "cell_type": "code",
   "execution_count": 39,
   "metadata": {},
   "outputs": [],
   "source": [
    "#hybrid\n",
    "class person:\n",
    "    pass\n",
    "class Male(person):\n",
    "    pass\n",
    "class Female(person):\n",
    "    pass\n",
    "class child(Male,Female):\n",
    "    pass"
   ]
  },
  {
   "cell_type": "code",
   "execution_count": 42,
   "metadata": {},
   "outputs": [
    {
     "name": "stdout",
     "output_type": "stream",
     "text": [
      "Arya main campus\n"
     ]
    }
   ],
   "source": [
    "#polymorphise multiple task(len function,print)\n",
    "name=\"Arya main campus\"\n",
    "print(name)"
   ]
  },
  {
   "cell_type": "code",
   "execution_count": null,
   "metadata": {},
   "outputs": [],
   "source": []
  },
  {
   "cell_type": "code",
   "execution_count": null,
   "metadata": {},
   "outputs": [],
   "source": []
  },
  {
   "cell_type": "code",
   "execution_count": 17,
   "metadata": {},
   "outputs": [
    {
     "name": "stdout",
     "output_type": "stream",
     "text": [
      "<class 'int'>\n"
     ]
    }
   ],
   "source": [
    "a=10\n",
    "print(type(a))"
   ]
  },
  {
   "cell_type": "code",
   "execution_count": null,
   "metadata": {},
   "outputs": [
    {
     "name": "stdout",
     "output_type": "stream",
     "text": [
      "kukus,jaipur\n",
      "xyz\n"
     ]
    }
   ],
   "source": [
    "#\n",
    "class AryaOld:\n",
    "    def __init__(self,address,director): #const\n",
    "        self.address=address #variable create\n",
    "        self.director=director\n",
    "obj=AryaOld(\"kukus,jaipur\",\"xyz\") #vlaue pass \n",
    "print(obj.address)  #call and print value\n",
    "print(obj.director)\n",
    "        \n",
    "        \n",
    "        "
   ]
  }
 ],
 "metadata": {
  "kernelspec": {
   "display_name": "Python 3",
   "language": "python",
   "name": "python3"
  },
  "language_info": {
   "codemirror_mode": {
    "name": "ipython",
    "version": 3
   },
   "file_extension": ".py",
   "mimetype": "text/x-python",
   "name": "python",
   "nbconvert_exporter": "python",
   "pygments_lexer": "ipython3",
   "version": "3.12.9"
  }
 },
 "nbformat": 4,
 "nbformat_minor": 2
}
